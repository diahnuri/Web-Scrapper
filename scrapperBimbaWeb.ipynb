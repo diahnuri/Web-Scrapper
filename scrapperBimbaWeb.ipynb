{
 "cells": [
  {
   "cell_type": "code",
   "execution_count": 1,
   "metadata": {
    "collapsed": true
   },
   "outputs": [],
   "source": [
    "import requests\n",
    "url= 'http://www.bimba-aiueo.com/dki-jakarta/'\n",
    "response = requests.get(url)\n",
    "html = response.content"
   ]
  },
  {
   "cell_type": "code",
   "execution_count": 2,
   "metadata": {
    "collapsed": false
   },
   "outputs": [],
   "source": [
    "from BeautifulSoup import BeautifulSoup\n",
    "\n",
    "list_of_rows = []\n",
    "soup = BeautifulSoup(html)\n",
    "table = soup.find('table', attrs={'class':'wpgmza_table responsive'})\n",
    "for row in table.findAll('tr'):\n",
    "    list_of_cells = []\n",
    "    for cell in row.findAll('td'):\n",
    "        text = cell.text\n",
    "        list_of_cells.append(text)\n",
    "    list_of_rows.append(list_of_cells)"
   ]
  },
  {
   "cell_type": "code",
   "execution_count": 3,
   "metadata": {
    "collapsed": false
   },
   "outputs": [
    {
     "name": "stdout",
     "output_type": "stream",
     "text": [
      "(213, 3)\n"
     ]
    }
   ],
   "source": [
    "import pandas as pd\n",
    "df = pd.DataFrame(list_of_rows, columns = ['Nama BIMBA', 'Alamat', 'Deskripsi'])\n",
    "print df.shape\n",
    "df.to_json(path_or_buf ='bimbaCabangJakarta.json', orient='records')"
   ]
  }
 ],
 "metadata": {
  "anaconda-cloud": {},
  "kernelspec": {
   "display_name": "Python [conda root]",
   "language": "python",
   "name": "conda-root-py"
  },
  "language_info": {
   "codemirror_mode": {
    "name": "ipython",
    "version": 2
   },
   "file_extension": ".py",
   "mimetype": "text/x-python",
   "name": "python",
   "nbconvert_exporter": "python",
   "pygments_lexer": "ipython2",
   "version": "2.7.12"
  }
 },
 "nbformat": 4,
 "nbformat_minor": 1
}
